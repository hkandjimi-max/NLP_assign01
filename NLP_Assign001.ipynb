{
  "nbformat": 4,
  "nbformat_minor": 0,
  "metadata": {
    "colab": {
      "name": "NLP_Assign001.ipynb",
      "provenance": []
    },
    "kernelspec": {
      "name": "python3",
      "display_name": "Python 3"
    }
  },
  "cells": [
    {
      "cell_type": "code",
      "metadata": {
        "colab": {
          "base_uri": "https://localhost:8080/"
        },
        "id": "dPze9eKNTHhM",
        "outputId": "022fb0a9-6b12-457b-cfe3-03cd52b03904"
      },
      "source": [
        "import nltk\n",
        "nltk.download('all')"
      ],
      "execution_count": 1,
      "outputs": [
        {
          "output_type": "stream",
          "text": [
            "[nltk_data] Downloading collection 'all'\n",
            "[nltk_data]    | \n",
            "[nltk_data]    | Downloading package abc to /root/nltk_data...\n",
            "[nltk_data]    |   Unzipping corpora/abc.zip.\n",
            "[nltk_data]    | Downloading package alpino to /root/nltk_data...\n",
            "[nltk_data]    |   Unzipping corpora/alpino.zip.\n",
            "[nltk_data]    | Downloading package biocreative_ppi to\n",
            "[nltk_data]    |     /root/nltk_data...\n",
            "[nltk_data]    |   Unzipping corpora/biocreative_ppi.zip.\n",
            "[nltk_data]    | Downloading package brown to /root/nltk_data...\n",
            "[nltk_data]    |   Unzipping corpora/brown.zip.\n",
            "[nltk_data]    | Downloading package brown_tei to /root/nltk_data...\n",
            "[nltk_data]    |   Unzipping corpora/brown_tei.zip.\n",
            "[nltk_data]    | Downloading package cess_cat to /root/nltk_data...\n",
            "[nltk_data]    |   Unzipping corpora/cess_cat.zip.\n",
            "[nltk_data]    | Downloading package cess_esp to /root/nltk_data...\n",
            "[nltk_data]    |   Unzipping corpora/cess_esp.zip.\n",
            "[nltk_data]    | Downloading package chat80 to /root/nltk_data...\n",
            "[nltk_data]    |   Unzipping corpora/chat80.zip.\n",
            "[nltk_data]    | Downloading package city_database to\n",
            "[nltk_data]    |     /root/nltk_data...\n",
            "[nltk_data]    |   Unzipping corpora/city_database.zip.\n",
            "[nltk_data]    | Downloading package cmudict to /root/nltk_data...\n",
            "[nltk_data]    |   Unzipping corpora/cmudict.zip.\n",
            "[nltk_data]    | Downloading package comparative_sentences to\n",
            "[nltk_data]    |     /root/nltk_data...\n",
            "[nltk_data]    |   Unzipping corpora/comparative_sentences.zip.\n",
            "[nltk_data]    | Downloading package comtrans to /root/nltk_data...\n",
            "[nltk_data]    | Downloading package conll2000 to /root/nltk_data...\n",
            "[nltk_data]    |   Unzipping corpora/conll2000.zip.\n",
            "[nltk_data]    | Downloading package conll2002 to /root/nltk_data...\n",
            "[nltk_data]    |   Unzipping corpora/conll2002.zip.\n",
            "[nltk_data]    | Downloading package conll2007 to /root/nltk_data...\n",
            "[nltk_data]    | Downloading package crubadan to /root/nltk_data...\n",
            "[nltk_data]    |   Unzipping corpora/crubadan.zip.\n",
            "[nltk_data]    | Downloading package dependency_treebank to\n",
            "[nltk_data]    |     /root/nltk_data...\n",
            "[nltk_data]    |   Unzipping corpora/dependency_treebank.zip.\n",
            "[nltk_data]    | Downloading package dolch to /root/nltk_data...\n",
            "[nltk_data]    |   Unzipping corpora/dolch.zip.\n",
            "[nltk_data]    | Downloading package europarl_raw to\n",
            "[nltk_data]    |     /root/nltk_data...\n",
            "[nltk_data]    |   Unzipping corpora/europarl_raw.zip.\n",
            "[nltk_data]    | Downloading package floresta to /root/nltk_data...\n",
            "[nltk_data]    |   Unzipping corpora/floresta.zip.\n",
            "[nltk_data]    | Downloading package framenet_v15 to\n",
            "[nltk_data]    |     /root/nltk_data...\n",
            "[nltk_data]    |   Unzipping corpora/framenet_v15.zip.\n",
            "[nltk_data]    | Downloading package framenet_v17 to\n",
            "[nltk_data]    |     /root/nltk_data...\n",
            "[nltk_data]    |   Unzipping corpora/framenet_v17.zip.\n",
            "[nltk_data]    | Downloading package gazetteers to /root/nltk_data...\n",
            "[nltk_data]    |   Unzipping corpora/gazetteers.zip.\n",
            "[nltk_data]    | Downloading package genesis to /root/nltk_data...\n",
            "[nltk_data]    |   Unzipping corpora/genesis.zip.\n",
            "[nltk_data]    | Downloading package gutenberg to /root/nltk_data...\n",
            "[nltk_data]    |   Unzipping corpora/gutenberg.zip.\n",
            "[nltk_data]    | Downloading package ieer to /root/nltk_data...\n",
            "[nltk_data]    |   Unzipping corpora/ieer.zip.\n",
            "[nltk_data]    | Downloading package inaugural to /root/nltk_data...\n",
            "[nltk_data]    |   Unzipping corpora/inaugural.zip.\n",
            "[nltk_data]    | Downloading package indian to /root/nltk_data...\n",
            "[nltk_data]    |   Unzipping corpora/indian.zip.\n",
            "[nltk_data]    | Downloading package jeita to /root/nltk_data...\n",
            "[nltk_data]    | Downloading package kimmo to /root/nltk_data...\n",
            "[nltk_data]    |   Unzipping corpora/kimmo.zip.\n",
            "[nltk_data]    | Downloading package knbc to /root/nltk_data...\n",
            "[nltk_data]    | Downloading package lin_thesaurus to\n",
            "[nltk_data]    |     /root/nltk_data...\n",
            "[nltk_data]    |   Unzipping corpora/lin_thesaurus.zip.\n",
            "[nltk_data]    | Downloading package mac_morpho to /root/nltk_data...\n",
            "[nltk_data]    |   Unzipping corpora/mac_morpho.zip.\n",
            "[nltk_data]    | Downloading package machado to /root/nltk_data...\n",
            "[nltk_data]    | Downloading package masc_tagged to /root/nltk_data...\n",
            "[nltk_data]    | Downloading package moses_sample to\n",
            "[nltk_data]    |     /root/nltk_data...\n",
            "[nltk_data]    |   Unzipping models/moses_sample.zip.\n",
            "[nltk_data]    | Downloading package movie_reviews to\n",
            "[nltk_data]    |     /root/nltk_data...\n",
            "[nltk_data]    |   Unzipping corpora/movie_reviews.zip.\n",
            "[nltk_data]    | Downloading package names to /root/nltk_data...\n",
            "[nltk_data]    |   Unzipping corpora/names.zip.\n",
            "[nltk_data]    | Downloading package nombank.1.0 to /root/nltk_data...\n",
            "[nltk_data]    | Downloading package nps_chat to /root/nltk_data...\n",
            "[nltk_data]    |   Unzipping corpora/nps_chat.zip.\n",
            "[nltk_data]    | Downloading package omw to /root/nltk_data...\n",
            "[nltk_data]    |   Unzipping corpora/omw.zip.\n",
            "[nltk_data]    | Downloading package opinion_lexicon to\n",
            "[nltk_data]    |     /root/nltk_data...\n",
            "[nltk_data]    |   Unzipping corpora/opinion_lexicon.zip.\n",
            "[nltk_data]    | Downloading package paradigms to /root/nltk_data...\n",
            "[nltk_data]    |   Unzipping corpora/paradigms.zip.\n",
            "[nltk_data]    | Downloading package pil to /root/nltk_data...\n",
            "[nltk_data]    |   Unzipping corpora/pil.zip.\n",
            "[nltk_data]    | Downloading package pl196x to /root/nltk_data...\n",
            "[nltk_data]    |   Unzipping corpora/pl196x.zip.\n",
            "[nltk_data]    | Downloading package ppattach to /root/nltk_data...\n",
            "[nltk_data]    |   Unzipping corpora/ppattach.zip.\n",
            "[nltk_data]    | Downloading package problem_reports to\n",
            "[nltk_data]    |     /root/nltk_data...\n",
            "[nltk_data]    |   Unzipping corpora/problem_reports.zip.\n",
            "[nltk_data]    | Downloading package propbank to /root/nltk_data...\n",
            "[nltk_data]    | Downloading package ptb to /root/nltk_data...\n",
            "[nltk_data]    |   Unzipping corpora/ptb.zip.\n",
            "[nltk_data]    | Downloading package product_reviews_1 to\n",
            "[nltk_data]    |     /root/nltk_data...\n",
            "[nltk_data]    |   Unzipping corpora/product_reviews_1.zip.\n",
            "[nltk_data]    | Downloading package product_reviews_2 to\n",
            "[nltk_data]    |     /root/nltk_data...\n",
            "[nltk_data]    |   Unzipping corpora/product_reviews_2.zip.\n",
            "[nltk_data]    | Downloading package pros_cons to /root/nltk_data...\n",
            "[nltk_data]    |   Unzipping corpora/pros_cons.zip.\n",
            "[nltk_data]    | Downloading package qc to /root/nltk_data...\n",
            "[nltk_data]    |   Unzipping corpora/qc.zip.\n",
            "[nltk_data]    | Downloading package reuters to /root/nltk_data...\n",
            "[nltk_data]    | Downloading package rte to /root/nltk_data...\n",
            "[nltk_data]    |   Unzipping corpora/rte.zip.\n",
            "[nltk_data]    | Downloading package semcor to /root/nltk_data...\n",
            "[nltk_data]    | Downloading package senseval to /root/nltk_data...\n",
            "[nltk_data]    |   Unzipping corpora/senseval.zip.\n",
            "[nltk_data]    | Downloading package sentiwordnet to\n",
            "[nltk_data]    |     /root/nltk_data...\n",
            "[nltk_data]    |   Unzipping corpora/sentiwordnet.zip.\n",
            "[nltk_data]    | Downloading package sentence_polarity to\n",
            "[nltk_data]    |     /root/nltk_data...\n",
            "[nltk_data]    |   Unzipping corpora/sentence_polarity.zip.\n",
            "[nltk_data]    | Downloading package shakespeare to /root/nltk_data...\n",
            "[nltk_data]    |   Unzipping corpora/shakespeare.zip.\n",
            "[nltk_data]    | Downloading package sinica_treebank to\n",
            "[nltk_data]    |     /root/nltk_data...\n",
            "[nltk_data]    |   Unzipping corpora/sinica_treebank.zip.\n",
            "[nltk_data]    | Downloading package smultron to /root/nltk_data...\n",
            "[nltk_data]    |   Unzipping corpora/smultron.zip.\n",
            "[nltk_data]    | Downloading package state_union to /root/nltk_data...\n",
            "[nltk_data]    |   Unzipping corpora/state_union.zip.\n",
            "[nltk_data]    | Downloading package stopwords to /root/nltk_data...\n",
            "[nltk_data]    |   Unzipping corpora/stopwords.zip.\n",
            "[nltk_data]    | Downloading package subjectivity to\n",
            "[nltk_data]    |     /root/nltk_data...\n",
            "[nltk_data]    |   Unzipping corpora/subjectivity.zip.\n",
            "[nltk_data]    | Downloading package swadesh to /root/nltk_data...\n",
            "[nltk_data]    |   Unzipping corpora/swadesh.zip.\n",
            "[nltk_data]    | Downloading package switchboard to /root/nltk_data...\n",
            "[nltk_data]    |   Unzipping corpora/switchboard.zip.\n",
            "[nltk_data]    | Downloading package timit to /root/nltk_data...\n",
            "[nltk_data]    |   Unzipping corpora/timit.zip.\n",
            "[nltk_data]    | Downloading package toolbox to /root/nltk_data...\n",
            "[nltk_data]    |   Unzipping corpora/toolbox.zip.\n",
            "[nltk_data]    | Downloading package treebank to /root/nltk_data...\n",
            "[nltk_data]    |   Unzipping corpora/treebank.zip.\n",
            "[nltk_data]    | Downloading package twitter_samples to\n",
            "[nltk_data]    |     /root/nltk_data...\n",
            "[nltk_data]    |   Unzipping corpora/twitter_samples.zip.\n",
            "[nltk_data]    | Downloading package udhr to /root/nltk_data...\n",
            "[nltk_data]    |   Unzipping corpora/udhr.zip.\n",
            "[nltk_data]    | Downloading package udhr2 to /root/nltk_data...\n",
            "[nltk_data]    |   Unzipping corpora/udhr2.zip.\n",
            "[nltk_data]    | Downloading package unicode_samples to\n",
            "[nltk_data]    |     /root/nltk_data...\n",
            "[nltk_data]    |   Unzipping corpora/unicode_samples.zip.\n",
            "[nltk_data]    | Downloading package universal_treebanks_v20 to\n",
            "[nltk_data]    |     /root/nltk_data...\n",
            "[nltk_data]    | Downloading package verbnet to /root/nltk_data...\n",
            "[nltk_data]    |   Unzipping corpora/verbnet.zip.\n",
            "[nltk_data]    | Downloading package verbnet3 to /root/nltk_data...\n",
            "[nltk_data]    |   Unzipping corpora/verbnet3.zip.\n",
            "[nltk_data]    | Downloading package webtext to /root/nltk_data...\n",
            "[nltk_data]    |   Unzipping corpora/webtext.zip.\n",
            "[nltk_data]    | Downloading package wordnet to /root/nltk_data...\n",
            "[nltk_data]    |   Unzipping corpora/wordnet.zip.\n",
            "[nltk_data]    | Downloading package wordnet_ic to /root/nltk_data...\n",
            "[nltk_data]    |   Unzipping corpora/wordnet_ic.zip.\n",
            "[nltk_data]    | Downloading package words to /root/nltk_data...\n",
            "[nltk_data]    |   Unzipping corpora/words.zip.\n",
            "[nltk_data]    | Downloading package ycoe to /root/nltk_data...\n",
            "[nltk_data]    |   Unzipping corpora/ycoe.zip.\n",
            "[nltk_data]    | Downloading package rslp to /root/nltk_data...\n",
            "[nltk_data]    |   Unzipping stemmers/rslp.zip.\n",
            "[nltk_data]    | Downloading package maxent_treebank_pos_tagger to\n",
            "[nltk_data]    |     /root/nltk_data...\n",
            "[nltk_data]    |   Unzipping taggers/maxent_treebank_pos_tagger.zip.\n",
            "[nltk_data]    | Downloading package universal_tagset to\n",
            "[nltk_data]    |     /root/nltk_data...\n",
            "[nltk_data]    |   Unzipping taggers/universal_tagset.zip.\n",
            "[nltk_data]    | Downloading package maxent_ne_chunker to\n",
            "[nltk_data]    |     /root/nltk_data...\n",
            "[nltk_data]    |   Unzipping chunkers/maxent_ne_chunker.zip.\n",
            "[nltk_data]    | Downloading package punkt to /root/nltk_data...\n",
            "[nltk_data]    |   Unzipping tokenizers/punkt.zip.\n",
            "[nltk_data]    | Downloading package book_grammars to\n",
            "[nltk_data]    |     /root/nltk_data...\n",
            "[nltk_data]    |   Unzipping grammars/book_grammars.zip.\n",
            "[nltk_data]    | Downloading package sample_grammars to\n",
            "[nltk_data]    |     /root/nltk_data...\n",
            "[nltk_data]    |   Unzipping grammars/sample_grammars.zip.\n",
            "[nltk_data]    | Downloading package spanish_grammars to\n",
            "[nltk_data]    |     /root/nltk_data...\n",
            "[nltk_data]    |   Unzipping grammars/spanish_grammars.zip.\n",
            "[nltk_data]    | Downloading package basque_grammars to\n",
            "[nltk_data]    |     /root/nltk_data...\n",
            "[nltk_data]    |   Unzipping grammars/basque_grammars.zip.\n",
            "[nltk_data]    | Downloading package large_grammars to\n",
            "[nltk_data]    |     /root/nltk_data...\n",
            "[nltk_data]    |   Unzipping grammars/large_grammars.zip.\n",
            "[nltk_data]    | Downloading package tagsets to /root/nltk_data...\n",
            "[nltk_data]    |   Unzipping help/tagsets.zip.\n",
            "[nltk_data]    | Downloading package snowball_data to\n",
            "[nltk_data]    |     /root/nltk_data...\n",
            "[nltk_data]    | Downloading package bllip_wsj_no_aux to\n",
            "[nltk_data]    |     /root/nltk_data...\n",
            "[nltk_data]    |   Unzipping models/bllip_wsj_no_aux.zip.\n",
            "[nltk_data]    | Downloading package word2vec_sample to\n",
            "[nltk_data]    |     /root/nltk_data...\n",
            "[nltk_data]    |   Unzipping models/word2vec_sample.zip.\n",
            "[nltk_data]    | Downloading package panlex_swadesh to\n",
            "[nltk_data]    |     /root/nltk_data...\n",
            "[nltk_data]    | Downloading package mte_teip5 to /root/nltk_data...\n",
            "[nltk_data]    |   Unzipping corpora/mte_teip5.zip.\n",
            "[nltk_data]    | Downloading package averaged_perceptron_tagger to\n",
            "[nltk_data]    |     /root/nltk_data...\n",
            "[nltk_data]    |   Unzipping taggers/averaged_perceptron_tagger.zip.\n",
            "[nltk_data]    | Downloading package averaged_perceptron_tagger_ru to\n",
            "[nltk_data]    |     /root/nltk_data...\n",
            "[nltk_data]    |   Unzipping\n",
            "[nltk_data]    |       taggers/averaged_perceptron_tagger_ru.zip.\n",
            "[nltk_data]    | Downloading package perluniprops to\n",
            "[nltk_data]    |     /root/nltk_data...\n",
            "[nltk_data]    |   Unzipping misc/perluniprops.zip.\n",
            "[nltk_data]    | Downloading package nonbreaking_prefixes to\n",
            "[nltk_data]    |     /root/nltk_data...\n",
            "[nltk_data]    |   Unzipping corpora/nonbreaking_prefixes.zip.\n",
            "[nltk_data]    | Downloading package vader_lexicon to\n",
            "[nltk_data]    |     /root/nltk_data...\n",
            "[nltk_data]    | Downloading package porter_test to /root/nltk_data...\n",
            "[nltk_data]    |   Unzipping stemmers/porter_test.zip.\n",
            "[nltk_data]    | Downloading package wmt15_eval to /root/nltk_data...\n",
            "[nltk_data]    |   Unzipping models/wmt15_eval.zip.\n",
            "[nltk_data]    | Downloading package mwa_ppdb to /root/nltk_data...\n",
            "[nltk_data]    |   Unzipping misc/mwa_ppdb.zip.\n",
            "[nltk_data]    | \n",
            "[nltk_data]  Done downloading collection all\n"
          ],
          "name": "stdout"
        },
        {
          "output_type": "execute_result",
          "data": {
            "text/plain": [
              "True"
            ]
          },
          "metadata": {
            "tags": []
          },
          "execution_count": 1
        }
      ]
    },
    {
      "cell_type": "code",
      "metadata": {
        "id": "gtNVIQYGS2y-"
      },
      "source": [
        "\n",
        "from nltk.corpus import movie_reviews\n",
        "from nltk.tokenize import PunktSentenceTokenizer\n",
        "from nltk.corpus import stopwords\n",
        "from nltk import word_tokenize\n",
        "from nltk import sent_tokenize\n",
        "import random"
      ],
      "execution_count": 13,
      "outputs": []
    },
    {
      "cell_type": "code",
      "metadata": {
        "colab": {
          "base_uri": "https://localhost:8080/"
        },
        "id": "DcH9YhMtdHg_",
        "outputId": "18e7ab3d-a9bd-4fb3-f29d-fe8394b99414"
      },
      "source": [
        "# Pick a random positive review\n",
        "review_list =movie_reviews.fileids()\n",
        "random_pos = random.choice(review_list)\n",
        "while not random_pos.startswith('pos'):\n",
        "  random_pos = random.choice(review_list)\n",
        "print(random_pos)"
      ],
      "execution_count": 25,
      "outputs": [
        {
          "output_type": "stream",
          "text": [
            "pos/cv122_7392.txt\n"
          ],
          "name": "stdout"
        }
      ]
    },
    {
      "cell_type": "code",
      "metadata": {
        "colab": {
          "base_uri": "https://localhost:8080/"
        },
        "id": "f0IUFa3rVekJ",
        "outputId": "69335467-b38d-45b0-e0ec-bcf2be277a19"
      },
      "source": [
        "review=movie_reviews.raw(random_pos)\n",
        "print(review)"
      ],
      "execution_count": 26,
      "outputs": [
        {
          "output_type": "stream",
          "text": [
            "warning : this review contains some spoilers for the 1964 film \" fail-safe . \" \n",
            "if you haven't seen the film yet , proceed with caution . \n",
            "nutshell : a relevant , intelligent , suspenseful drama . \n",
            "still powerful today , even after the end of the cold war . \n",
            "-------------------- \" fail-safe \" ( usa , 1964 ) drama , 111 minutes \n",
            "screenplay by walter bernstein based on the novel by eugene burdick and harvey wheeler produced by max e . youngstein directed by sidney lumet \n",
            "review by jamahl epsicokhan -------------------- \n",
            "the most ironic aspect of nuclear war is that it doesn't have a winning side and a losing side . \n",
            "in a nuclear confrontation , everybody loses , and the aftereffects have devastating effects that impact the entire world--assuming the world survives . \n",
            "the idea--and perhaps the only real option--is to avoid war at all costs . \n",
            "this is the theme of sidney lumet's \" fail-safe , \" a fictional drama based on the novel by eugene burdick and harvey wheeler . \n",
            " \" fail-safe \" takes place during the heart of the cold war ( the actual film was released two years after the cuban missile crisis ) , when the united states and the soviet union were in static discord over an issue that can be summarized in a single word : communism . \n",
            "the premise centers around a combination of accidents and operation flaws . \n",
            "five u . s . bombers carrying nuclear warheads are ordered to set a routine course for moscow after an unidentified aircraft is spotted heading toward america . \n",
            "the unidentified aircraft turns out to be a commercial airliner , but a mechanical failure strikes the military base that commands the bombers . \n",
            "suddenly out of contact , and with standing orders to remain on course until receiving new directives , the bomber pilots cannot be recalled , and they proceed to moscow with the intention of destroying it with a nuclear strike . \n",
            "a great deal of \" fail-safe \" 's plot follows various characters as they attempt to devise ways of stopping the u . s . bombers from reaching russia's borders--at any cost . \n",
            "the plot is compelling , and the story creates urgency and dread by painting the grimmest of worst case scenarios . \n",
            "the reality sets in quickly as one attempt to turn the bombers after another fails . \n",
            "general bogan ( frank overton ) , taking orders directly from the president of the united states himself ( henry fonda ) , is powerless--the fate of the world lies in the hands of an automated , pre-programmed system that may not be stoppable , simply because the creators of the war machines were too efficient in their task to make a no-win situation winnable . \n",
            "the events in \" fail-safe \" are fascinating because they're anything but predictable , but the real reason \" fail-safe \" works is because it understands more about nuclear war than what exists within the confines of its plot . \n",
            "a key ingredient to the film is its ability to create an ongoing polemic about nuclear war , communism , the cold war , and the united states' role in all of it . \n",
            "most of this is through the film's use of the character groeteschele ( walter matthau ) , an arrogant civilian theorist of nuclear weapons use who , incidentally , is on the president's advising staff for analyzing the statistical plausibility of waging a nuclear war . \n",
            "many of the film's most pointed messages arise from discussions where groeteschele is one of the key voices . \n",
            "early in the film , he hosts a dinner party where he explains the importance of \" strategy \" in a nuclear assault to \" minimize \" casualties . \n",
            " \" what's the difference between 60 million and 100 million dead ? \" \n",
            "a guest asks impatiently . \n",
            " \" forty million , \" groeteschele responds wryly . \n",
            "the problem with groeteschele's mindset is that he * believes * nuclear combat to be a viable method of war . \n",
            "the only difference to him between nuclear armageddon and conventional warfare is the raw data and the casualty totals . \n",
            "groeteschele realizes that these weapons can destroy the world several times over . \n",
            "yet his answer to the arms race is not to slow down and try to cool the situation off , as general black ( dan o'herlihy ) has often recommended . \n",
            "on the contrary--according to groeteschele , that would lead to russia having * more * nuclear weapons than the u . s . , which would clearly put america at a disadvantage . \n",
            "such a stance was perhaps the central paradox and misguided practice of the arms race . \n",
            " \" fail-safe \" clearly sees it as one of the central issues of the cold war , and , likewise , it becomes a central theme in the film . \n",
            "why continue to build such machines of mass destruction while already possessing enough of them to destroy the world several times over ? \n",
            "is it wise ? \n",
            "is it even logical ? \n",
            "no , not really . \n",
            "although \" fail-safe \" is more about the issue of nuclear weapons than it is about the political ramifications of communism , there is a scene in the film that deals with communism in an intentionally superficial , one-sided sort of way . \n",
            "again , this is achieved through groeteschele , who is easily the film's most important character in terms of the larger-theme significance . \n",
            "in addition to providing the central \" pro-nuclear war \" voice that the film warns against , he also makes key remarks about communists that show just how much fear and resentment people of the period were prone to when it came to communism . \n",
            "the context the film uses suggests that this hatred was often glib . \n",
            "one of groeteschele's \" logical \" trains of thought ventures so far into fantasy theoretical prediction that it's merely absurd . \n",
            "he labels the average marxist an \" unfeeling , calculating machine \" that will do whatever it takes to preserve itself . \n",
            "groeteschele takes it so far as to say that if the u . s . drops the warhead on moscow , the soviets will * instantly * surrender , for to retaliate would invite counter-measures that would further destroy russia's home soil--which must be preserved at all costs . \n",
            "groeteschele seems to forget these people are human beings with emotions ; general black quickly reminds him that the soviets would attack out of revenge--as any normal person would . \n",
            "the irony here is groeteschele's own mechanical theorizing . \n",
            "he is so quick to judge the enemy that he doesn't even realize his own seemingly programmed thought patterns . \n",
            "once the film makes it evident that turning the u . s . bombers will be impossible , the question becomes what the * consequences * of destroying moscow will be . \n",
            "just how will the soviet union's leader react , and what can the president do to convey his best intentions ? \n",
            " ( just * how * does one pass off the deaths of millions of people as an * mishap * ? ) \n",
            "with the help of his translator buck ( larry hagman ) , the president negotiates at length with the soviet leader , in scenes that prove amazingly taut and powerful in their simplicity , with lumet's long takes of fonda and hagman in the same frame , exchanging the dialog between the president and the soviet leader . \n",
            "without getting into too much detail , i will say that the compromise they ultimately reach is very costly , yet necessary and as sensible as possible under the circumstances . \n",
            " ( that is , as sensible as a nuclear \" incident \" can probably be . ) \n",
            "it does accomplish what it must : it avoids an all-out war , something that simply isn't possible because of its all-too-real consequences . \n",
            "dramatically , the ending is quite powerful , and the use of o'herlihy's character as the symbolic \" matador \" ( providing a bookend to the film by ending the story while tying into his dream sequence from the film's opening ) , is particularly appropriate . \n",
            " \" fail-safe \" is a production of a major hollywood studio ( released by columbia pictures ) , and it has the structure of a high-tension suspense thriller that one might expect from a hollywood film . \n",
            "nevertheless , under lumet's direction and walter bernstein's intelligent adaptation of burdick's and wheeler's novel , the film continues to have a lasting effect even after the events on screen have unfolded . \n",
            "the film often warns that the automation of war is something that may make nuclear holocaust an unintentional consequence of such mass arming . \n",
            "but it was the conscious , human choice to * initialize * this automatic arming that \" fail-safe \" also finds dangerous . \n",
            "in retrospect , the arms race seems to be one of the most puzzling exercises in futility of the century . \n",
            "it's just fortunate that both sides were finally able to come to their senses and slow down , rather than continuing groeteschele's dangerous approach of speeding up and causing a possible meltdown . \n",
            "\n"
          ],
          "name": "stdout"
        }
      ]
    },
    {
      "cell_type": "code",
      "metadata": {
        "colab": {
          "base_uri": "https://localhost:8080/"
        },
        "id": "8K-3lvw4WbUB",
        "outputId": "95cc6224-46c9-4546-f54f-8cdbfc913832"
      },
      "source": [
        "words = word_tokenize(review)\n",
        "print(\"Total number of unique words in review\",len(set(words)))"
      ],
      "execution_count": 32,
      "outputs": [
        {
          "output_type": "stream",
          "text": [
            "Total number of words in review 605\n"
          ],
          "name": "stdout"
        }
      ]
    },
    {
      "cell_type": "code",
      "metadata": {
        "colab": {
          "base_uri": "https://localhost:8080/"
        },
        "id": "6pBg1mQcXGiu",
        "outputId": "31c85e51-2283-44ee-b034-95d70d73a97d"
      },
      "source": [
        "stop_words=stopwords.words(\"english\")\n",
        "new_review = list(filter(lambda word: word not in stop_words,words))\n",
        "# convert list to set to remove dublicates\n",
        "set_review = set(new_review)\n",
        "print(\"Number of words in review, excluding stop words\",len(set_review))\n",
        "print(set_review)"
      ],
      "execution_count": 31,
      "outputs": [
        {
          "output_type": "stream",
          "text": [
            "Number of words in review, excluding stop words 516\n",
            "{'recommended', 'conscious', 'ironic', 'ability', 'borders', 'jamahl', 'realizes', 'screenplay', 'sensible', 'data', 'way', 'works', 'context', 'situation', 'sees', 'warhead', 'contrary', 'burdick', 'compelling', 'minimize', 'convey', '``', 'directed', 'machine', 'build', 'retaliate', 'marxist', 'unfeeling', 'pictures', 'standing', 'characters', 'addition', 'trains', 'ramifications', 'communists', 'something', 'polemic', 'detail', 'yet', 'revenge', 'pointed', 'side', 'paradox', 'ongoing', 'aspect', 'incidentally', 'new', 'misguided', 'assault', 'world', 'fail-safe', 'missile', 'key', 'preserve', 'turns', 'summarized', \"'re\", 'terms', 'issue', 'mindset', 'predictable', 'uses', 'entire', 'messages', 'home', 'avoids', 'automated', 'seemingly', 'stoppable', 'absurd', 'put', 'would', 'come', 'opening', 'finally', 'role', 'emotions', 'larry', 'programmed', 'drops', 'option', 'anything', 'beings', 'necessary', 'important', 'holocaust', 'avoid', 'spotted', 'simplicity', 'taut', 'commands', 'nuclear', 'mass', 'raw', 'evident', 'today', 'urgency', 'pre-programmed', 'suspense', 'loses', 'tying', 'commercial', 'u', 'particularly', 'million', 'say', 'speeding', 'directives', 'soviet', 'warning', 'aftereffects', 'easily', 'reach', 'symbolic', 'premise', 'columbia', 'warns', 'quickly', 'confrontation', 'bookend', 'ultimately', 'intentionally', 'destroy', 'perhaps', 'bernstein', 'bogan', 'disadvantage', 'prediction', 'spoilers', 'hatred', 'according', 'buck', 'two', 'makes', 'sequence', 'superficial', 'explains', 'likewise', 'deaths', 'resentment', 'continuing', 'weapons', 'worst', 'armageddon', 'devise', 'analyzing', 'follows', 'cost', 'airliner', 'several', 'hagman', 'automation', 'hollywood', 'heart', 'strike', 'pro-nuclear', 'ingredient', 'lasting', 'destroying', 'system', 'wheeler', 'matador', 'aircraft', 'recalled', 'strategy', 'seems', 'structure', 'civilian', 'casualty', 'general', 'heading', 'instantly', 'crisis', 'epsicokhan', 'fictional', 'pass', 'max', 'glib', 'compromise', ')', \"'\", 'prove', 'arrogant', 'quick', 'single', 'suggests', 'confines', 'impossible', 'normal', 'stopping', 'powerful', 'conventional', 'military', 'circumstances', 'preserved', 'becomes', 'answer', 'exercises', 'losing', 'fails', 'attempt', 'might', 'counter-measures', 'often', 'henry', 'continues', 'eugene', 'idea', 'responds', 'youngstein', 'america', 'machines', 'discussions', 'people', 'dangerous', 'survives', 'accidents', 'intelligent', 'even', 'nevertheless', 'effects', 'united', 'costs', 'assuming', 'mechanical', 'wise', 'russia', 'continue', 'forty', 'meltdown', 'political', 'possessing', 'novel', 'average', 'times', 'voices', 'senses', 'static', '(', 'many', ';', 'released', 'simply', 'fonda', 'within', '--', 'although', 'reminds', 'direction', 'approach', 'guest', 'review', 'directly', 'turn', 'destruction', 'another', 'casualties', 'turning', 'groeteschele', 'surrender', 'effect', 'receiving', 'logical', 'overton', 'theme', 'question', 'major', 'caution', 'minutes', 'period', 'theoretical', 'grimmest', 'problem', 'set', 'negotiates', 'providing', 'dinner', 'years', 'merely', 'toward', 'labels', 'usa', 'reaching', 'possible', 'puzzling', 'dread', 'creates', 'takes', 'story', 'enemy', 'scenes', 'deals', 'one-sided', 'practice', 'staff', 'achieved', 'exchanging', 'all-too-real', '*', 'warheads', 'quite', 'high-tension', 'leader', 'hosts', 'method', 'long', 'fate', 'reason', 'best', 'early', 'course', 'warfare', 'soil', 'seen', 'task', 'unidentified', 'understands', 'difference', 'dan', 'union', 'impact', 'black', 'discord', '?', 'ordered', 'translator', 'states', 'issues', 'irony', 'also', 'length', 'plausibility', 'winning', 'creators', 'clearly', 'without', 'came', '1964', 'wryly', 'matthau', 'fear', 'use', 'millions', 'relevant', 'powerless', 'arms', 'significance', 'hands', 'getting', 'great', 'viable', 'intention', 'cool', 'proceed', 'carrying', 'finds', 'unintentional', 'theorist', 'patterns', 'no-win', 'efficient', 'e', 'cold', 'character', 'end', 'futility', ',', 'one', 'harvey', 'remain', 'lies', 'attack', ':', 'operation', 'intentions', 'suspenseful', 'various', 'importance', 'centers', 'person', 'thought', 'moscow', 'much', 'totals', 'far', 'invite', 'communism', 'probably', 'based', 'must', 'consequences', 'actual', 'dramatically', 'choice', 'may', 'advising', 'sides', 'enough', 'ending', 'able', 'combination', 'produced', 'flaws', 'winnable', 'soviets', 'place', 'plot', 'theorizing', 'calculating', 'rather', 'arming', 'painting', '60', 'word', 'dialog', 'exists', 'asks', 'incident', 'create', 'reality', 'adaptation', 'retrospect', 'forget', 'pilots', 'deal', 'sidney', 'sets', \"'s\", 'real', 'around', 'dead', 'show', 'scenarios', 'voice', 'statistical', 'stance', 'film', 'suddenly', 'taking', 'failure', 'costly', 'frame', 'studio', 'bombers', 'react', 'five', \"o'herlihy\", 'production', 'central', '.', 'dream', 'automatic', 'judge', 'all-out', 'expect', 'party', 'impatiently', 'fantasy', 'president', 'accomplish', 'thriller', 'fascinating', 'lead', 'consequence', 'routine', 'everybody', 'base', '111', 'bomber', 'ways', 'lumet', 'appropriate', 'sort', 'slow', \"n't\", 'mishap', 'contact', 'orders', 'combat', 'whatever', 'realize', 'century', 'larger-theme', 'scene', 'fortunate', 'really', 'events', 'initialize', 'frank', 'remarks', 'still', 'cuban', 'make', 'waging', 'walter', 'amazingly', 'already', 'war', 'unfolded', '100', 'ventures', 'nutshell', 'arise', 'devastating', 'human', 'race', 'help', 'contains', 'believes', 'causing', 'screen', 'strikes', 'prone', 'drama', 'try', 'case'}\n"
          ],
          "name": "stdout"
        }
      ]
    }
  ]
}